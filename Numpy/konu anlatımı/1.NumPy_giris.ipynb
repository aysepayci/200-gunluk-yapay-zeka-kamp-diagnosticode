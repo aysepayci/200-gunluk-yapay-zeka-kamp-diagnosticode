{
 "cells": [
  {
   "cell_type": "markdown",
   "metadata": {},
   "source": [
    "NumPy Nedir?"
   ]
  },
  {
   "cell_type": "code",
   "execution_count": null,
   "metadata": {},
   "outputs": [],
   "source": [
    "\n",
    "#NumPy açık kaynaklı kodlu ücretsiz ve özgür bir python kütüphanesidir.\n",
    "#NumPy --> Numerical Python analamına gelir. Sayılar daha hızlı matamatik işlemler yapmamızı sağlar.\n",
    "#NumPy kütüphanesinin en temel elemanı array(dizi)'dir.\n",
    "#Arrayleri Python dizilerinin çok boyutlu olanı gibi düşünebilirsiniz.\n",
    "#Arrayler listelerden yaklaşık 50 kat daha hızlı çalışır\n",
    "#NumPy arraylerinin hızlı çalışmasının sebebi bu kütüphanenin çok büyük oranda C ve C++ yazılmış olması."
   ]
  },
  {
   "cell_type": "markdown",
   "metadata": {},
   "source": [
    "Numpy Yüklenmesi"
   ]
  },
  {
   "cell_type": "code",
   "execution_count": null,
   "metadata": {},
   "outputs": [],
   "source": [
    "#!pip install numpy --> numpy kütüphanesini indirmek için"
   ]
  },
  {
   "cell_type": "markdown",
   "metadata": {},
   "source": [
    "Numpy'ı projeye dahil etme"
   ]
  },
  {
   "cell_type": "code",
   "execution_count": null,
   "metadata": {},
   "outputs": [],
   "source": [
    "#import numpy       #kodumuzda NumPy kütüphanesini kullanmak için yazarız.\n",
    "import numpy as np  #np kısaltım şeklinde olur."
   ]
  }
 ],
 "metadata": {
  "language_info": {
   "name": "python"
  }
 },
 "nbformat": 4,
 "nbformat_minor": 2
}
