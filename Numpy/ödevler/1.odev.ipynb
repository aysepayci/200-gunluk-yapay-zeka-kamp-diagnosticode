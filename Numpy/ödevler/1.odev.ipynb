{
 "cells": [
  {
   "cell_type": "markdown",
   "metadata": {},
   "source": [
    "Matris Oluşturma ve İşlemler:"
   ]
  },
  {
   "cell_type": "code",
   "execution_count": 1,
   "metadata": {},
   "outputs": [],
   "source": [
    "import numpy as np "
   ]
  },
  {
   "cell_type": "code",
   "execution_count": 2,
   "metadata": {},
   "outputs": [
    {
     "name": "stdout",
     "output_type": "stream",
     "text": [
      "[[0.6658513  0.86237956 0.35610817]\n",
      " [0.12808627 0.61453678 0.69337533]\n",
      " [0.28567998 0.82925437 0.95355752]]\n"
     ]
    }
   ],
   "source": [
    "#3x3 boyutunda rastgele tamsayılardan oluşan bir NumPy matrisi oluşturun.\n",
    "matrix=np.random.rand(3,3)\n",
    "print(matrix)"
   ]
  },
  {
   "cell_type": "code",
   "execution_count": 3,
   "metadata": {},
   "outputs": [
    {
     "name": "stdout",
     "output_type": "stream",
     "text": [
      "matrix transpose'i = [[0.6658513  0.12808627 0.28567998]\n",
      " [0.86237956 0.61453678 0.82925437]\n",
      " [0.35610817 0.69337533 0.95355752]]\n"
     ]
    }
   ],
   "source": [
    "#Transpozesini alın.\n",
    "matrix_transpose=matrix.T\n",
    "print(\"matrix transpose'i =\",matrix_transpose)"
   ]
  },
  {
   "cell_type": "code",
   "execution_count": 4,
   "metadata": {},
   "outputs": [
    {
     "name": "stdout",
     "output_type": "stream",
     "text": [
      "matrix'in determinat'i = 0.04813201060448518\n"
     ]
    }
   ],
   "source": [
    "#Determinantını hesaplayın. \n",
    "matrix_det=np.linalg.det(matrix)\n",
    "print(\"matrix'in determinat'i =\",matrix_det)"
   ]
  },
  {
   "cell_type": "code",
   "execution_count": 5,
   "metadata": {},
   "outputs": [
    {
     "name": "stdout",
     "output_type": "stream",
     "text": [
      "[[1.33170261 1.72475911 0.71221633]\n",
      " [0.25617254 1.22907356 1.38675066]\n",
      " [0.57135997 1.65850874 1.90711504]]\n"
     ]
    }
   ],
   "source": [
    "#matrix'in her eleman 2 ile çarpımı\n",
    "print(matrix*2)"
   ]
  }
 ],
 "metadata": {
  "kernelspec": {
   "display_name": "Python 3",
   "language": "python",
   "name": "python3"
  },
  "language_info": {
   "codemirror_mode": {
    "name": "ipython",
    "version": 3
   },
   "file_extension": ".py",
   "mimetype": "text/x-python",
   "name": "python",
   "nbconvert_exporter": "python",
   "pygments_lexer": "ipython3",
   "version": "3.12.0"
  }
 },
 "nbformat": 4,
 "nbformat_minor": 2
}
