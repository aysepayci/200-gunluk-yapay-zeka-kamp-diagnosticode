{
 "cells": [
  {
   "cell_type": "markdown",
   "metadata": {},
   "source": [
    "Dizi Operasyonları:"
   ]
  },
  {
   "cell_type": "code",
   "execution_count": 1,
   "metadata": {},
   "outputs": [],
   "source": [
    "import numpy as np"
   ]
  },
  {
   "cell_type": "code",
   "execution_count": 2,
   "metadata": {},
   "outputs": [
    {
     "name": "stdout",
     "output_type": "stream",
     "text": [
      "Dizi= [[ 1 50]\n",
      " [ 1 49]\n",
      " [ 1 48]\n",
      " [ 1 47]\n",
      " [ 1 46]\n",
      " [ 1 45]\n",
      " [ 2 45]\n",
      " [ 2 44]\n",
      " [ 2 43]\n",
      " [ 2 42]\n",
      " [ 2 41]\n",
      " [ 3 41]\n",
      " [ 3 40]\n",
      " [ 3 39]\n",
      " [ 3 38]\n",
      " [ 3 37]\n",
      " [ 3 36]\n",
      " [ 4 36]\n",
      " [ 4 35]\n",
      " [ 4 34]\n",
      " [ 4 33]\n",
      " [ 4 32]\n",
      " [ 5 32]\n",
      " [ 5 31]\n",
      " [ 5 30]\n",
      " [ 5 29]\n",
      " [ 5 28]\n",
      " [ 5 27]\n",
      " [ 6 27]\n",
      " [ 6 26]\n",
      " [ 6 25]\n",
      " [ 6 24]\n",
      " [ 6 23]\n",
      " [ 7 23]\n",
      " [ 7 22]\n",
      " [ 7 21]\n",
      " [ 7 20]\n",
      " [ 7 19]\n",
      " [ 7 18]\n",
      " [ 8 18]\n",
      " [ 8 17]\n",
      " [ 8 16]\n",
      " [ 8 15]\n",
      " [ 8 14]\n",
      " [ 9 14]\n",
      " [ 9 13]\n",
      " [ 9 12]\n",
      " [ 9 11]\n",
      " [ 9 10]\n",
      " [10 10]]\n"
     ]
    }
   ],
   "source": [
    "#1 ile 50 arasında 10 eşit aralıklı sayı içeren bir NumPy dizisi oluşturun.\n",
    "arr=np.linspace((1,50),10, dtype=int)\n",
    "print(\"Dizi=\",arr)"
   ]
  },
  {
   "cell_type": "code",
   "execution_count": 3,
   "metadata": {},
   "outputs": [
    {
     "name": "stdout",
     "output_type": "stream",
     "text": [
      "Dizinin ortalamasi = 17.27\n",
      "Dizinin standart sapmasi=  14.942459636887095\n"
     ]
    }
   ],
   "source": [
    "#Ortalamasını ve standart sapmasını hesaplayın.\n",
    "arr_ort=arr.mean() #ortalama\n",
    "print(\"Dizinin ortalamasi =\",arr_ort)\n",
    "arr_sdtsap=arr.std()  #standart sapma\n",
    "print(\"Dizinin standart sapmasi= \",arr_sdtsap)"
   ]
  },
  {
   "cell_type": "code",
   "execution_count": 4,
   "metadata": {},
   "outputs": [
    {
     "name": "stdout",
     "output_type": "stream",
     "text": [
      "Array'in karesi=  [[1.         7.07106781]\n",
      " [1.         7.        ]\n",
      " [1.         6.92820323]\n",
      " [1.         6.8556546 ]\n",
      " [1.         6.78232998]\n",
      " [1.         6.70820393]\n",
      " [1.41421356 6.70820393]\n",
      " [1.41421356 6.63324958]\n",
      " [1.41421356 6.55743852]\n",
      " [1.41421356 6.4807407 ]\n",
      " [1.41421356 6.40312424]\n",
      " [1.73205081 6.40312424]\n",
      " [1.73205081 6.32455532]\n",
      " [1.73205081 6.244998  ]\n",
      " [1.73205081 6.164414  ]\n",
      " [1.73205081 6.08276253]\n",
      " [1.73205081 6.        ]\n",
      " [2.         6.        ]\n",
      " [2.         5.91607978]\n",
      " [2.         5.83095189]\n",
      " [2.         5.74456265]\n",
      " [2.         5.65685425]\n",
      " [2.23606798 5.65685425]\n",
      " [2.23606798 5.56776436]\n",
      " [2.23606798 5.47722558]\n",
      " [2.23606798 5.38516481]\n",
      " [2.23606798 5.29150262]\n",
      " [2.23606798 5.19615242]\n",
      " [2.44948974 5.19615242]\n",
      " [2.44948974 5.09901951]\n",
      " [2.44948974 5.        ]\n",
      " [2.44948974 4.89897949]\n",
      " [2.44948974 4.79583152]\n",
      " [2.64575131 4.79583152]\n",
      " [2.64575131 4.69041576]\n",
      " [2.64575131 4.58257569]\n",
      " [2.64575131 4.47213595]\n",
      " [2.64575131 4.35889894]\n",
      " [2.64575131 4.24264069]\n",
      " [2.82842712 4.24264069]\n",
      " [2.82842712 4.12310563]\n",
      " [2.82842712 4.        ]\n",
      " [2.82842712 3.87298335]\n",
      " [2.82842712 3.74165739]\n",
      " [3.         3.74165739]\n",
      " [3.         3.60555128]\n",
      " [3.         3.46410162]\n",
      " [3.         3.31662479]\n",
      " [3.         3.16227766]\n",
      " [3.16227766 3.16227766]]\n"
     ]
    }
   ],
   "source": [
    "#Elemanlarının karesini alın.\n",
    "arr_kare=np.sqrt(arr)\n",
    "print(\"Array'in karesi= \",arr_kare)"
   ]
  },
  {
   "cell_type": "code",
   "execution_count": 5,
   "metadata": {},
   "outputs": [
    {
     "name": "stdout",
     "output_type": "stream",
     "text": [
      "25'ten büyük elemanklar= [50 49 48 47 46 45 45 44 43 42 41 41 40 39 38 37 36 36 35 34 33 32 32 31\n",
      " 30 29 28 27 27 26]\n"
     ]
    }
   ],
   "source": [
    "#Elemanlardan 25’ten büyük olanları filtreleyip ekrana yazdırın.\n",
    "arr_filtred=arr[arr>25]\n",
    "print(\"25'ten büyük elemanklar=\",arr_filtred)"
   ]
  }
 ],
 "metadata": {
  "kernelspec": {
   "display_name": "Python 3",
   "language": "python",
   "name": "python3"
  },
  "language_info": {
   "codemirror_mode": {
    "name": "ipython",
    "version": 3
   },
   "file_extension": ".py",
   "mimetype": "text/x-python",
   "name": "python",
   "nbconvert_exporter": "python",
   "pygments_lexer": "ipython3",
   "version": "3.12.0"
  }
 },
 "nbformat": 4,
 "nbformat_minor": 2
}
