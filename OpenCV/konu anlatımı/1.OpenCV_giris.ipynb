{
 "cells": [
  {
   "cell_type": "markdown",
   "metadata": {},
   "source": [
    "    OpenCV"
   ]
  },
  {
   "cell_type": "code",
   "execution_count": null,
   "metadata": {},
   "outputs": [],
   "source": [
    "#OpenCV nedir? Kullanım alanları nelerdir?\n",
    "#OpenCV’nin kurulumu: pip install opencv-python\n",
    "#Temel modül: cv2"
   ]
  },
  {
   "cell_type": "code",
   "execution_count": null,
   "metadata": {},
   "outputs": [],
   "source": [
    "#OpenCV (Open Source Computer Vision Library), bilgisayarla görme ve görüntü işleme projeleri için kullanılan, açık kaynaklı bir kütüphanedir.\n",
    "#Görüntü ve video analizinden, nesne algılama, yüz tanıma, hareket takibi ve 3D modelleme gibi ileri düzey uygulamalara kadar geniş bir yelpazede kullanılır."
   ]
  },
  {
   "cell_type": "code",
   "execution_count": null,
   "metadata": {},
   "outputs": [],
   "source": [
    "#uygulamalardan bazıları şunlardır:\n",
    "\n",
    "#Kamera görüntülerinin uydu veya web haritalarında birleştirilmesi\n",
    "#Görüntü tarama hizalaması\n",
    "#Tıbbi görüntü gürültü azaltma\n",
    "#Nesne analizi\n",
    "#Güvenlik, gözetim ve saldırı tespit sistemleri\n",
    "#Otomatik izleme ve emniyet sistemleri\n",
    "#Üretim AI denetimi\n",
    "#Kamera kalibrasyonu\n",
    "#İnsansız hava, kara ve su altı araçları"
   ]
  },
  {
   "cell_type": "code",
   "execution_count": null,
   "metadata": {},
   "outputs": [],
   "source": [
    "# pip install opencv-python kurmak için terminale yazın"
   ]
  },
  {
   "cell_type": "code",
   "execution_count": 1,
   "metadata": {},
   "outputs": [],
   "source": [
    "import cv2 #kütüphanemizi çağırdik"
   ]
  }
 ],
 "metadata": {
  "kernelspec": {
   "display_name": "Python 3",
   "language": "python",
   "name": "python3"
  },
  "language_info": {
   "codemirror_mode": {
    "name": "ipython",
    "version": 3
   },
   "file_extension": ".py",
   "mimetype": "text/x-python",
   "name": "python",
   "nbconvert_exporter": "python",
   "pygments_lexer": "ipython3",
   "version": "3.12.0"
  }
 },
 "nbformat": 4,
 "nbformat_minor": 2
}
