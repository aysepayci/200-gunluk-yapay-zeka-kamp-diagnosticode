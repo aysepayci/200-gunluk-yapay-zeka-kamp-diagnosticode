{
 "cells": [
  {
   "cell_type": "markdown",
   "metadata": {},
   "source": [
    "    Pandas"
   ]
  },
  {
   "cell_type": "markdown",
   "metadata": {},
   "source": [
    "Pandas nedir?"
   ]
  },
  {
   "cell_type": "code",
   "execution_count": 4,
   "metadata": {},
   "outputs": [],
   "source": [
    "#pandas açık kaynaklı ve ücretsiz veri(bilgi) işleme, manipüle etme, temizleme vb. işlemleri yapabileceğimiz oldukça efektif bir kütüphanedir.\n",
    "#pandas kütüphanesi NumPy kütüphanesi üzerine kurulmuş bir kütüphanedir\n",
    "#pandas elimizdeki veriyi(bilgiyi) şekillendirip işlenmemize ve veriden ANLAMLI SONUÇLAR çıkarmamızı olanak sağlar.\n",
    "#pandas kütüphanesinin temel elemanları series ve DataFrame'dir.\n",
    "#series ve DataFrame nesnelerini excel tabloları gibi düşünebiliriz. \n",
    "\n",
    "#Ek Attribute:\n",
    "\"\"\"\n",
    "pd.__version__ (Pandas sürümünü kontrol etme)\n",
    "pd.options.display.* (görsel çıktılar için ayarlar)\n",
    "\"\"\"\n",
    "#Ek Metotlar:\n",
    "\"\"\"\n",
    "pd.set_option() (görsel çıktılar için özelleştirme)\n",
    "pd.describe_option() (mevcut tüm ayarları listeleme)\n",
    "\"\"\""
   ]
  },
  {
   "cell_type": "markdown",
   "metadata": {},
   "source": [
    "pandas'ı kurma"
   ]
  },
  {
   "cell_type": "code",
   "execution_count": 5,
   "metadata": {},
   "outputs": [],
   "source": [
    "# terminalde pip install pandas"
   ]
  },
  {
   "cell_type": "code",
   "execution_count": 6,
   "metadata": {},
   "outputs": [],
   "source": [
    "import pandas as pd"
   ]
  },
  {
   "cell_type": "markdown",
   "metadata": {},
   "source": [
    "# [pandas dökümasyonları tıklayın:)](https://pandas.pydata.org/pandas-docs/stable/reference/index.html)"
   ]
  }
 ],
 "metadata": {
  "kernelspec": {
   "display_name": "Python 3",
   "language": "python",
   "name": "python3"
  },
  "language_info": {
   "codemirror_mode": {
    "name": "ipython",
    "version": 3
   },
   "file_extension": ".py",
   "mimetype": "text/x-python",
   "name": "python",
   "nbconvert_exporter": "python",
   "pygments_lexer": "ipython3",
   "version": "3.12.0"
  }
 },
 "nbformat": 4,
 "nbformat_minor": 2
}
