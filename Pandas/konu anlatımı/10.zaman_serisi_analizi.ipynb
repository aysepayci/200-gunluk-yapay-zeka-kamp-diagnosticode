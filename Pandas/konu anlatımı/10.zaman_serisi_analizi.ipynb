{
 "cells": [
  {
   "cell_type": "markdown",
   "metadata": {},
   "source": [
    "    Tarih işlemleri"
   ]
  },
  {
   "cell_type": "code",
   "execution_count": null,
   "metadata": {},
   "outputs": [],
   "source": [
    "#Tarih formatında veri oluşturma.\n",
    "#Tarih sütunlarını işlemlerle kullanma.\n",
    "\n",
    "#Ek Metotlar:\n",
    "\"\"\"\n",
    "pd.date_range() (zaman serisi oluşturma)\n",
    "pd.to_datetime() (tarih verisini dönüştürme)\n",
    "df.resample() (zaman serisini yeniden örnekleme)\n",
    "df.shift() (zaman serisini kaydırma)\n",
    "df.rolling() (kayan pencereler üzerinde işlem)\n",
    "\"\"\" "
   ]
  },
  {
   "cell_type": "code",
   "execution_count": 5,
   "metadata": {},
   "outputs": [],
   "source": [
    "import pandas as pd"
   ]
  },
  {
   "cell_type": "code",
   "execution_count": null,
   "metadata": {},
   "outputs": [],
   "source": [
    "#Pandas, tarih formatındaki verilerle çalışmayı kolaylaştırır. pd.date_range() ile tarih aralığı oluşturabiliriz."
   ]
  },
  {
   "cell_type": "code",
   "execution_count": 10,
   "metadata": {},
   "outputs": [
    {
     "name": "stdout",
     "output_type": "stream",
     "text": [
      "DatetimeIndex(['2023-01-01', '2023-01-02', '2023-01-03', '2023-01-04',\n",
      "               '2023-01-05', '2023-01-06', '2023-01-07', '2023-01-08',\n",
      "               '2023-01-09', '2023-01-10'],\n",
      "              dtype='datetime64[ns]', freq='D')\n"
     ]
    }
   ],
   "source": [
    "# Tarih aralığı oluşturma\n",
    "dates = pd.date_range(start='2023-01-01', end='2023-01-10', freq='D')\n",
    "print(dates)"
   ]
  },
  {
   "cell_type": "code",
   "execution_count": null,
   "metadata": {},
   "outputs": [],
   "source": [
    "#Saatlik, aylık veya yıllık veriler için freq parametresini değiştirebilirsin (H, M, Y vb.).\n"
   ]
  },
  {
   "cell_type": "code",
   "execution_count": null,
   "metadata": {},
   "outputs": [],
   "source": [
    "#Tarih sütunları, Pandas'ta datetime formatına dönüştürüldükten sonra kolayca işlenebilir. \n",
    "# Gün, ay, yıl gibi özelliklere erişebiliriz."
   ]
  },
  {
   "cell_type": "code",
   "execution_count": 2,
   "metadata": {},
   "outputs": [],
   "source": [
    "df = pd.DataFrame({\n",
    "    'Event': ['A', 'B', 'C'],\n",
    "    'Date': ['2023-01-01', '2023-02-15', '2023-03-20']\n",
    "})"
   ]
  },
  {
   "cell_type": "code",
   "execution_count": 3,
   "metadata": {},
   "outputs": [],
   "source": [
    "# Tarih formatına dönüştürme\n",
    "df['Date'] = pd.to_datetime(df['Date'])"
   ]
  },
  {
   "cell_type": "code",
   "execution_count": 4,
   "metadata": {},
   "outputs": [
    {
     "name": "stdout",
     "output_type": "stream",
     "text": [
      "  Event       Date  Year  Month\n",
      "0     A 2023-01-01  2023      1\n",
      "1     B 2023-02-15  2023      2\n",
      "2     C 2023-03-20  2023      3\n"
     ]
    }
   ],
   "source": [
    "# Yıl ve ay bilgisi ekleme\n",
    "df['Year'] = df['Date'].dt.year\n",
    "df['Month'] = df['Date'].dt.month\n",
    "print(df)"
   ]
  },
  {
   "cell_type": "code",
   "execution_count": null,
   "metadata": {},
   "outputs": [],
   "source": [
    "#Eğer tarih formatında olmayan veriler varsa hata alırsın.\n",
    "#Bunun için errors='coerce' parametresini kullanabilirsin"
   ]
  },
  {
   "cell_type": "code",
   "execution_count": null,
   "metadata": {},
   "outputs": [],
   "source": [
    "df['Date'] = pd.to_datetime(df['Date'], errors='coerce')"
   ]
  }
 ],
 "metadata": {
  "kernelspec": {
   "display_name": "Python 3",
   "language": "python",
   "name": "python3"
  },
  "language_info": {
   "codemirror_mode": {
    "name": "ipython",
    "version": 3
   },
   "file_extension": ".py",
   "mimetype": "text/x-python",
   "name": "python",
   "nbconvert_exporter": "python",
   "pygments_lexer": "ipython3",
   "version": "3.12.0"
  }
 },
 "nbformat": 4,
 "nbformat_minor": 2
}
