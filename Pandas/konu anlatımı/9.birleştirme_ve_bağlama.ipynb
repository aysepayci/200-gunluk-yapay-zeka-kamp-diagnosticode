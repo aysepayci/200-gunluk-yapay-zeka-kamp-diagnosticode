{
 "cells": [
  {
   "cell_type": "markdown",
   "metadata": {},
   "source": [
    "    DataFrame'de Birleştirme ve Bağlama"
   ]
  },
  {
   "cell_type": "code",
   "execution_count": null,
   "metadata": {},
   "outputs": [],
   "source": [
    "#DataFrame birleştirme ( merge ).\n",
    "#DataFrame bağlama ( concat).\n",
    "\n",
    "#Ek Metotlar:\n",
    "\"\"\"\n",
    "df.join() (DataFrame’leri indeksler üzerinden birleştirme)\n",
    "df.combine_first() (eksik değerleri diğer DataFrame ile doldurma)\n",
    "\"\"\""
   ]
  },
  {
   "cell_type": "code",
   "execution_count": 1,
   "metadata": {},
   "outputs": [],
   "source": [
    "import pandas as pd"
   ]
  },
  {
   "cell_type": "code",
   "execution_count": 9,
   "metadata": {},
   "outputs": [],
   "source": [
    "customers={\n",
    "    'CustomerId':[1,2,3,4],\n",
    "    'FirstName':[\"Ahmet\",\"Ali\",\"Hasan\",\"Canan\"],\n",
    "    'LastName':[\"Yılmaz\",\"Korkmaz\",\"Çelik\",\"Toprak\"]\n",
    "}"
   ]
  },
  {
   "cell_type": "code",
   "execution_count": 5,
   "metadata": {},
   "outputs": [],
   "source": [
    "orders={\n",
    "    'OrderId':[10,11,12,13],\n",
    "    'CustomerId':[1,2,5,7],\n",
    "    'OrderDate':['2010-07-04','2010-08-04','2010-07-07','2012-07-04']\n",
    "}"
   ]
  },
  {
   "cell_type": "code",
   "execution_count": 10,
   "metadata": {},
   "outputs": [],
   "source": [
    "df_customers=pd.DataFrame(customers,columns=[\"CustomerId\",\"FirstName\",\"LastName\"])\n",
    "df_orders=pd.DataFrame(orders,columns=[\"OrderId\",\"CustomerId\",\"OrderDate\"])"
   ]
  },
  {
   "cell_type": "code",
   "execution_count": 11,
   "metadata": {},
   "outputs": [
    {
     "name": "stdout",
     "output_type": "stream",
     "text": [
      "   CustomerId FirstName LastName\n",
      "0           1     Ahmet   Yılmaz\n",
      "1           2       Ali  Korkmaz\n",
      "2           3     Hasan    Çelik\n",
      "3           4     Canan   Toprak\n"
     ]
    }
   ],
   "source": [
    "print(df_customers)"
   ]
  },
  {
   "cell_type": "code",
   "execution_count": 8,
   "metadata": {},
   "outputs": [
    {
     "name": "stdout",
     "output_type": "stream",
     "text": [
      "   OrderId  CustomerId   OrderDate\n",
      "0       10           1  2010-07-04\n",
      "1       11           2  2010-08-04\n",
      "2       12           5  2010-07-07\n",
      "3       13           7  2012-07-04\n"
     ]
    }
   ],
   "source": [
    "print(df_orders)"
   ]
  },
  {
   "cell_type": "code",
   "execution_count": null,
   "metadata": {},
   "outputs": [],
   "source": [
    "#merge(), iki veya daha fazla DataFrame’i birleştirir. SQL’deki JOIN işlemi gibi çalışır. \n",
    "#İki DataFrame’i belirli bir sütun ya da indeks üzerinde birleştirmek için kullanılır."
   ]
  },
  {
   "cell_type": "code",
   "execution_count": 12,
   "metadata": {},
   "outputs": [
    {
     "data": {
      "text/html": [
       "<div>\n",
       "<style scoped>\n",
       "    .dataframe tbody tr th:only-of-type {\n",
       "        vertical-align: middle;\n",
       "    }\n",
       "\n",
       "    .dataframe tbody tr th {\n",
       "        vertical-align: top;\n",
       "    }\n",
       "\n",
       "    .dataframe thead th {\n",
       "        text-align: right;\n",
       "    }\n",
       "</style>\n",
       "<table border=\"1\" class=\"dataframe\">\n",
       "  <thead>\n",
       "    <tr style=\"text-align: right;\">\n",
       "      <th></th>\n",
       "      <th>CustomerId</th>\n",
       "      <th>FirstName</th>\n",
       "      <th>LastName</th>\n",
       "      <th>OrderId</th>\n",
       "      <th>OrderDate</th>\n",
       "    </tr>\n",
       "  </thead>\n",
       "  <tbody>\n",
       "    <tr>\n",
       "      <th>0</th>\n",
       "      <td>1</td>\n",
       "      <td>Ahmet</td>\n",
       "      <td>Yılmaz</td>\n",
       "      <td>10</td>\n",
       "      <td>2010-07-04</td>\n",
       "    </tr>\n",
       "    <tr>\n",
       "      <th>1</th>\n",
       "      <td>2</td>\n",
       "      <td>Ali</td>\n",
       "      <td>Korkmaz</td>\n",
       "      <td>11</td>\n",
       "      <td>2010-08-04</td>\n",
       "    </tr>\n",
       "  </tbody>\n",
       "</table>\n",
       "</div>"
      ],
      "text/plain": [
       "   CustomerId FirstName LastName  OrderId   OrderDate\n",
       "0           1     Ahmet   Yılmaz       10  2010-07-04\n",
       "1           2       Ali  Korkmaz       11  2010-08-04"
      ]
     },
     "execution_count": 12,
     "metadata": {},
     "output_type": "execute_result"
    }
   ],
   "source": [
    "result=pd.merge(df_customers,df_orders,how=\"inner\")\n",
    "result"
   ]
  },
  {
   "cell_type": "code",
   "execution_count": 14,
   "metadata": {},
   "outputs": [
    {
     "data": {
      "text/html": [
       "<div>\n",
       "<style scoped>\n",
       "    .dataframe tbody tr th:only-of-type {\n",
       "        vertical-align: middle;\n",
       "    }\n",
       "\n",
       "    .dataframe tbody tr th {\n",
       "        vertical-align: top;\n",
       "    }\n",
       "\n",
       "    .dataframe thead th {\n",
       "        text-align: right;\n",
       "    }\n",
       "</style>\n",
       "<table border=\"1\" class=\"dataframe\">\n",
       "  <thead>\n",
       "    <tr style=\"text-align: right;\">\n",
       "      <th></th>\n",
       "      <th>CustomerId</th>\n",
       "      <th>FirstName</th>\n",
       "      <th>LastName</th>\n",
       "      <th>OrderId</th>\n",
       "      <th>OrderDate</th>\n",
       "    </tr>\n",
       "  </thead>\n",
       "  <tbody>\n",
       "    <tr>\n",
       "      <th>0</th>\n",
       "      <td>1</td>\n",
       "      <td>Ahmet</td>\n",
       "      <td>Yılmaz</td>\n",
       "      <td>10.0</td>\n",
       "      <td>2010-07-04</td>\n",
       "    </tr>\n",
       "    <tr>\n",
       "      <th>1</th>\n",
       "      <td>2</td>\n",
       "      <td>Ali</td>\n",
       "      <td>Korkmaz</td>\n",
       "      <td>11.0</td>\n",
       "      <td>2010-08-04</td>\n",
       "    </tr>\n",
       "    <tr>\n",
       "      <th>2</th>\n",
       "      <td>3</td>\n",
       "      <td>Hasan</td>\n",
       "      <td>Çelik</td>\n",
       "      <td>NaN</td>\n",
       "      <td>NaN</td>\n",
       "    </tr>\n",
       "    <tr>\n",
       "      <th>3</th>\n",
       "      <td>4</td>\n",
       "      <td>Canan</td>\n",
       "      <td>Toprak</td>\n",
       "      <td>NaN</td>\n",
       "      <td>NaN</td>\n",
       "    </tr>\n",
       "  </tbody>\n",
       "</table>\n",
       "</div>"
      ],
      "text/plain": [
       "   CustomerId FirstName LastName  OrderId   OrderDate\n",
       "0           1     Ahmet   Yılmaz     10.0  2010-07-04\n",
       "1           2       Ali  Korkmaz     11.0  2010-08-04\n",
       "2           3     Hasan    Çelik      NaN         NaN\n",
       "3           4     Canan   Toprak      NaN         NaN"
      ]
     },
     "execution_count": 14,
     "metadata": {},
     "output_type": "execute_result"
    }
   ],
   "source": [
    "result=pd.merge(df_customers,df_orders,how=\"left\")\n",
    "result"
   ]
  },
  {
   "cell_type": "code",
   "execution_count": 15,
   "metadata": {},
   "outputs": [
    {
     "data": {
      "text/html": [
       "<div>\n",
       "<style scoped>\n",
       "    .dataframe tbody tr th:only-of-type {\n",
       "        vertical-align: middle;\n",
       "    }\n",
       "\n",
       "    .dataframe tbody tr th {\n",
       "        vertical-align: top;\n",
       "    }\n",
       "\n",
       "    .dataframe thead th {\n",
       "        text-align: right;\n",
       "    }\n",
       "</style>\n",
       "<table border=\"1\" class=\"dataframe\">\n",
       "  <thead>\n",
       "    <tr style=\"text-align: right;\">\n",
       "      <th></th>\n",
       "      <th>CustomerId</th>\n",
       "      <th>FirstName</th>\n",
       "      <th>LastName</th>\n",
       "      <th>OrderId</th>\n",
       "      <th>OrderDate</th>\n",
       "    </tr>\n",
       "  </thead>\n",
       "  <tbody>\n",
       "    <tr>\n",
       "      <th>0</th>\n",
       "      <td>1</td>\n",
       "      <td>Ahmet</td>\n",
       "      <td>Yılmaz</td>\n",
       "      <td>10</td>\n",
       "      <td>2010-07-04</td>\n",
       "    </tr>\n",
       "    <tr>\n",
       "      <th>1</th>\n",
       "      <td>2</td>\n",
       "      <td>Ali</td>\n",
       "      <td>Korkmaz</td>\n",
       "      <td>11</td>\n",
       "      <td>2010-08-04</td>\n",
       "    </tr>\n",
       "    <tr>\n",
       "      <th>2</th>\n",
       "      <td>5</td>\n",
       "      <td>NaN</td>\n",
       "      <td>NaN</td>\n",
       "      <td>12</td>\n",
       "      <td>2010-07-07</td>\n",
       "    </tr>\n",
       "    <tr>\n",
       "      <th>3</th>\n",
       "      <td>7</td>\n",
       "      <td>NaN</td>\n",
       "      <td>NaN</td>\n",
       "      <td>13</td>\n",
       "      <td>2012-07-04</td>\n",
       "    </tr>\n",
       "  </tbody>\n",
       "</table>\n",
       "</div>"
      ],
      "text/plain": [
       "   CustomerId FirstName LastName  OrderId   OrderDate\n",
       "0           1     Ahmet   Yılmaz       10  2010-07-04\n",
       "1           2       Ali  Korkmaz       11  2010-08-04\n",
       "2           5       NaN      NaN       12  2010-07-07\n",
       "3           7       NaN      NaN       13  2012-07-04"
      ]
     },
     "execution_count": 15,
     "metadata": {},
     "output_type": "execute_result"
    }
   ],
   "source": [
    "result=pd.merge(df_customers,df_orders,how=\"right\")\n",
    "result"
   ]
  },
  {
   "cell_type": "code",
   "execution_count": 22,
   "metadata": {},
   "outputs": [
    {
     "data": {
      "text/html": [
       "<div>\n",
       "<style scoped>\n",
       "    .dataframe tbody tr th:only-of-type {\n",
       "        vertical-align: middle;\n",
       "    }\n",
       "\n",
       "    .dataframe tbody tr th {\n",
       "        vertical-align: top;\n",
       "    }\n",
       "\n",
       "    .dataframe thead th {\n",
       "        text-align: right;\n",
       "    }\n",
       "</style>\n",
       "<table border=\"1\" class=\"dataframe\">\n",
       "  <thead>\n",
       "    <tr style=\"text-align: right;\">\n",
       "      <th></th>\n",
       "      <th>CustomerId</th>\n",
       "      <th>FirstName</th>\n",
       "      <th>LastName</th>\n",
       "      <th>OrderId</th>\n",
       "      <th>OrderDate</th>\n",
       "    </tr>\n",
       "  </thead>\n",
       "  <tbody>\n",
       "    <tr>\n",
       "      <th>0</th>\n",
       "      <td>1</td>\n",
       "      <td>Ahmet</td>\n",
       "      <td>Yılmaz</td>\n",
       "      <td>10.0</td>\n",
       "      <td>2010-07-04</td>\n",
       "    </tr>\n",
       "    <tr>\n",
       "      <th>1</th>\n",
       "      <td>2</td>\n",
       "      <td>Ali</td>\n",
       "      <td>Korkmaz</td>\n",
       "      <td>11.0</td>\n",
       "      <td>2010-08-04</td>\n",
       "    </tr>\n",
       "    <tr>\n",
       "      <th>2</th>\n",
       "      <td>3</td>\n",
       "      <td>Hasan</td>\n",
       "      <td>Çelik</td>\n",
       "      <td>NaN</td>\n",
       "      <td>NaN</td>\n",
       "    </tr>\n",
       "    <tr>\n",
       "      <th>3</th>\n",
       "      <td>4</td>\n",
       "      <td>Canan</td>\n",
       "      <td>Toprak</td>\n",
       "      <td>NaN</td>\n",
       "      <td>NaN</td>\n",
       "    </tr>\n",
       "    <tr>\n",
       "      <th>4</th>\n",
       "      <td>5</td>\n",
       "      <td>NaN</td>\n",
       "      <td>NaN</td>\n",
       "      <td>12.0</td>\n",
       "      <td>2010-07-07</td>\n",
       "    </tr>\n",
       "    <tr>\n",
       "      <th>5</th>\n",
       "      <td>7</td>\n",
       "      <td>NaN</td>\n",
       "      <td>NaN</td>\n",
       "      <td>13.0</td>\n",
       "      <td>2012-07-04</td>\n",
       "    </tr>\n",
       "  </tbody>\n",
       "</table>\n",
       "</div>"
      ],
      "text/plain": [
       "   CustomerId FirstName LastName  OrderId   OrderDate\n",
       "0           1     Ahmet   Yılmaz     10.0  2010-07-04\n",
       "1           2       Ali  Korkmaz     11.0  2010-08-04\n",
       "2           3     Hasan    Çelik      NaN         NaN\n",
       "3           4     Canan   Toprak      NaN         NaN\n",
       "4           5       NaN      NaN     12.0  2010-07-07\n",
       "5           7       NaN      NaN     13.0  2012-07-04"
      ]
     },
     "execution_count": 22,
     "metadata": {},
     "output_type": "execute_result"
    }
   ],
   "source": [
    "result=pd.merge(df_customers,df_orders,how=\"outer\")\n",
    "result"
   ]
  },
  {
   "cell_type": "code",
   "execution_count": 16,
   "metadata": {},
   "outputs": [],
   "source": [
    "customersA={\n",
    "    'CustomerId':[1,2,3,4],\n",
    "    'FirstName':[\"Ahmet\",\"Ali\",\"Hasan\",\"Canan\"],\n",
    "    'LastName':[\"Yılmaz\",\"Korkmaz\",\"Çelik\",\"Toprak\"]\n",
    "}"
   ]
  },
  {
   "cell_type": "code",
   "execution_count": 17,
   "metadata": {},
   "outputs": [],
   "source": [
    "customersB={\n",
    "    'CustomerId':[4,5,6,7],\n",
    "    'FirstName':[\"Yağmur\",\"Çınar\",\"Cengiz\",\"Can\"],\n",
    "    'LastName':[\"Bilge\",\"Turan\",\"Yılmaz\",\"Turan\"]\n",
    "}"
   ]
  },
  {
   "cell_type": "code",
   "execution_count": 18,
   "metadata": {},
   "outputs": [],
   "source": [
    "df_customersA=pd.DataFrame(customersA,columns=[\"CustomerId\",\"FirstName\",\"LastName\"])\n",
    "df_customersB=pd.DataFrame(customersB,columns=[\"CustomerId\",\"FirstName\",\"LastName\"])"
   ]
  },
  {
   "cell_type": "code",
   "execution_count": null,
   "metadata": {},
   "outputs": [],
   "source": [
    "#concat() ile indeksleri sıfırlamak için ignore_index=True kullan.\n",
    "#Sütun bazında birleştirme için axis=1 ayarlanabilir."
   ]
  },
  {
   "cell_type": "code",
   "execution_count": 20,
   "metadata": {},
   "outputs": [
    {
     "data": {
      "text/html": [
       "<div>\n",
       "<style scoped>\n",
       "    .dataframe tbody tr th:only-of-type {\n",
       "        vertical-align: middle;\n",
       "    }\n",
       "\n",
       "    .dataframe tbody tr th {\n",
       "        vertical-align: top;\n",
       "    }\n",
       "\n",
       "    .dataframe thead th {\n",
       "        text-align: right;\n",
       "    }\n",
       "</style>\n",
       "<table border=\"1\" class=\"dataframe\">\n",
       "  <thead>\n",
       "    <tr style=\"text-align: right;\">\n",
       "      <th></th>\n",
       "      <th>CustomerId</th>\n",
       "      <th>FirstName</th>\n",
       "      <th>LastName</th>\n",
       "    </tr>\n",
       "  </thead>\n",
       "  <tbody>\n",
       "    <tr>\n",
       "      <th>0</th>\n",
       "      <td>1</td>\n",
       "      <td>Ahmet</td>\n",
       "      <td>Yılmaz</td>\n",
       "    </tr>\n",
       "    <tr>\n",
       "      <th>1</th>\n",
       "      <td>2</td>\n",
       "      <td>Ali</td>\n",
       "      <td>Korkmaz</td>\n",
       "    </tr>\n",
       "    <tr>\n",
       "      <th>2</th>\n",
       "      <td>3</td>\n",
       "      <td>Hasan</td>\n",
       "      <td>Çelik</td>\n",
       "    </tr>\n",
       "    <tr>\n",
       "      <th>3</th>\n",
       "      <td>4</td>\n",
       "      <td>Canan</td>\n",
       "      <td>Toprak</td>\n",
       "    </tr>\n",
       "    <tr>\n",
       "      <th>0</th>\n",
       "      <td>4</td>\n",
       "      <td>Yağmur</td>\n",
       "      <td>Bilge</td>\n",
       "    </tr>\n",
       "    <tr>\n",
       "      <th>1</th>\n",
       "      <td>5</td>\n",
       "      <td>Çınar</td>\n",
       "      <td>Turan</td>\n",
       "    </tr>\n",
       "    <tr>\n",
       "      <th>2</th>\n",
       "      <td>6</td>\n",
       "      <td>Cengiz</td>\n",
       "      <td>Yılmaz</td>\n",
       "    </tr>\n",
       "    <tr>\n",
       "      <th>3</th>\n",
       "      <td>7</td>\n",
       "      <td>Can</td>\n",
       "      <td>Turan</td>\n",
       "    </tr>\n",
       "  </tbody>\n",
       "</table>\n",
       "</div>"
      ],
      "text/plain": [
       "   CustomerId FirstName LastName\n",
       "0           1     Ahmet   Yılmaz\n",
       "1           2       Ali  Korkmaz\n",
       "2           3     Hasan    Çelik\n",
       "3           4     Canan   Toprak\n",
       "0           4    Yağmur    Bilge\n",
       "1           5     Çınar    Turan\n",
       "2           6    Cengiz   Yılmaz\n",
       "3           7       Can    Turan"
      ]
     },
     "execution_count": 20,
     "metadata": {},
     "output_type": "execute_result"
    }
   ],
   "source": [
    "result=pd.concat([df_customersA,df_customersB])\n",
    "result"
   ]
  },
  {
   "cell_type": "code",
   "execution_count": 21,
   "metadata": {},
   "outputs": [
    {
     "data": {
      "text/html": [
       "<div>\n",
       "<style scoped>\n",
       "    .dataframe tbody tr th:only-of-type {\n",
       "        vertical-align: middle;\n",
       "    }\n",
       "\n",
       "    .dataframe tbody tr th {\n",
       "        vertical-align: top;\n",
       "    }\n",
       "\n",
       "    .dataframe thead th {\n",
       "        text-align: right;\n",
       "    }\n",
       "</style>\n",
       "<table border=\"1\" class=\"dataframe\">\n",
       "  <thead>\n",
       "    <tr style=\"text-align: right;\">\n",
       "      <th></th>\n",
       "      <th>CustomerId</th>\n",
       "      <th>FirstName</th>\n",
       "      <th>LastName</th>\n",
       "      <th>CustomerId</th>\n",
       "      <th>FirstName</th>\n",
       "      <th>LastName</th>\n",
       "    </tr>\n",
       "  </thead>\n",
       "  <tbody>\n",
       "    <tr>\n",
       "      <th>0</th>\n",
       "      <td>1</td>\n",
       "      <td>Ahmet</td>\n",
       "      <td>Yılmaz</td>\n",
       "      <td>4</td>\n",
       "      <td>Yağmur</td>\n",
       "      <td>Bilge</td>\n",
       "    </tr>\n",
       "    <tr>\n",
       "      <th>1</th>\n",
       "      <td>2</td>\n",
       "      <td>Ali</td>\n",
       "      <td>Korkmaz</td>\n",
       "      <td>5</td>\n",
       "      <td>Çınar</td>\n",
       "      <td>Turan</td>\n",
       "    </tr>\n",
       "    <tr>\n",
       "      <th>2</th>\n",
       "      <td>3</td>\n",
       "      <td>Hasan</td>\n",
       "      <td>Çelik</td>\n",
       "      <td>6</td>\n",
       "      <td>Cengiz</td>\n",
       "      <td>Yılmaz</td>\n",
       "    </tr>\n",
       "    <tr>\n",
       "      <th>3</th>\n",
       "      <td>4</td>\n",
       "      <td>Canan</td>\n",
       "      <td>Toprak</td>\n",
       "      <td>7</td>\n",
       "      <td>Can</td>\n",
       "      <td>Turan</td>\n",
       "    </tr>\n",
       "  </tbody>\n",
       "</table>\n",
       "</div>"
      ],
      "text/plain": [
       "   CustomerId FirstName LastName  CustomerId FirstName LastName\n",
       "0           1     Ahmet   Yılmaz           4    Yağmur    Bilge\n",
       "1           2       Ali  Korkmaz           5     Çınar    Turan\n",
       "2           3     Hasan    Çelik           6    Cengiz   Yılmaz\n",
       "3           4     Canan   Toprak           7       Can    Turan"
      ]
     },
     "execution_count": 21,
     "metadata": {},
     "output_type": "execute_result"
    }
   ],
   "source": [
    "result=pd.concat([df_customersA,df_customersB],axis=1)\n",
    "result"
   ]
  },
  {
   "cell_type": "code",
   "execution_count": null,
   "metadata": {},
   "outputs": [],
   "source": [
    "#concat(): DataFrame’leri satır veya sütun olarak birleştirir.\n",
    "#append(): Bir DataFrame’i diğerine ekler. Yeni DataFrame döndürür (2022 itibariyle concat öneriliyor)."
   ]
  }
 ],
 "metadata": {
  "kernelspec": {
   "display_name": "Python 3",
   "language": "python",
   "name": "python3"
  },
  "language_info": {
   "codemirror_mode": {
    "name": "ipython",
    "version": 3
   },
   "file_extension": ".py",
   "mimetype": "text/x-python",
   "name": "python",
   "nbconvert_exporter": "python",
   "pygments_lexer": "ipython3",
   "version": "3.12.0"
  }
 },
 "nbformat": 4,
 "nbformat_minor": 2
}
