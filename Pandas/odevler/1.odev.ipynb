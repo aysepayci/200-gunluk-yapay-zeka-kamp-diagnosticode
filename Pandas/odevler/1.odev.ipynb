{
 "cells": [
  {
   "cell_type": "markdown",
   "metadata": {},
   "source": [
    "DataFrame Oluşturma:"
   ]
  },
  {
   "cell_type": "code",
   "execution_count": 1,
   "metadata": {},
   "outputs": [],
   "source": [
    "import pandas as pd"
   ]
  },
  {
   "cell_type": "code",
   "execution_count": 2,
   "metadata": {},
   "outputs": [
    {
     "data": {
      "text/html": [
       "<div>\n",
       "<style scoped>\n",
       "    .dataframe tbody tr th:only-of-type {\n",
       "        vertical-align: middle;\n",
       "    }\n",
       "\n",
       "    .dataframe tbody tr th {\n",
       "        vertical-align: top;\n",
       "    }\n",
       "\n",
       "    .dataframe thead th {\n",
       "        text-align: right;\n",
       "    }\n",
       "</style>\n",
       "<table border=\"1\" class=\"dataframe\">\n",
       "  <thead>\n",
       "    <tr style=\"text-align: right;\">\n",
       "      <th></th>\n",
       "      <th>İsim</th>\n",
       "      <th>Yaş</th>\n",
       "      <th>Maaş</th>\n",
       "    </tr>\n",
       "  </thead>\n",
       "  <tbody>\n",
       "    <tr>\n",
       "      <th>0</th>\n",
       "      <td>Veli</td>\n",
       "      <td>25</td>\n",
       "      <td>5000</td>\n",
       "    </tr>\n",
       "    <tr>\n",
       "      <th>1</th>\n",
       "      <td>Ayşe</td>\n",
       "      <td>30</td>\n",
       "      <td>6000</td>\n",
       "    </tr>\n",
       "    <tr>\n",
       "      <th>2</th>\n",
       "      <td>Mehmet</td>\n",
       "      <td>22</td>\n",
       "      <td>4500</td>\n",
       "    </tr>\n",
       "    <tr>\n",
       "      <th>3</th>\n",
       "      <td>Betül</td>\n",
       "      <td>27</td>\n",
       "      <td>5200</td>\n",
       "    </tr>\n",
       "  </tbody>\n",
       "</table>\n",
       "</div>"
      ],
      "text/plain": [
       "     İsim  Yaş  Maaş\n",
       "0    Veli   25  5000\n",
       "1    Ayşe   30  6000\n",
       "2  Mehmet   22  4500\n",
       "3   Betül   27  5200"
      ]
     },
     "execution_count": 2,
     "metadata": {},
     "output_type": "execute_result"
    }
   ],
   "source": [
    "# DataFrame'i oluşturma\n",
    "data = {\n",
    "    \"İsim\": [\"Veli\", \"Ayşe\", \"Mehmet\", \"Betül\"],\n",
    "    \"Yaş\": [25, 30, 22, 27],\n",
    "    \"Maaş\": [5000, 6000, 4500, 5200]\n",
    "}\n",
    "df = pd.DataFrame(data)\n",
    "df"
   ]
  },
  {
   "cell_type": "code",
   "execution_count": 3,
   "metadata": {},
   "outputs": [
    {
     "name": "stdout",
     "output_type": "stream",
     "text": [
      "Ortalama Yaş: 26.0\n",
      "Ortalama Maaş: 5175.0\n"
     ]
    }
   ],
   "source": [
    "# Ortalama yaş ve maaşı hesaplama\n",
    "ortalama_yas = df[\"Yaş\"].mean()\n",
    "ortalama_maas = df[\"Maaş\"].mean()\n",
    "print(f\"Ortalama Yaş: {ortalama_yas}\")\n",
    "print(f\"Ortalama Maaş: {ortalama_maas}\")"
   ]
  },
  {
   "cell_type": "code",
   "execution_count": 4,
   "metadata": {},
   "outputs": [
    {
     "name": "stdout",
     "output_type": "stream",
     "text": [
      "\n",
      "Maaşı 5000'den büyük olan kişiler:\n",
      "    İsim  Yaş  Maaş\n",
      "1   Ayşe   30  6000\n",
      "3  Betül   27  5200\n"
     ]
    }
   ],
   "source": [
    "# Maaşı 5000'den büyük olan kişileri filtreleme\n",
    "maasi_5000den_buyuk = df[df[\"Maaş\"] > 5000]\n",
    "print(\"\\nMaaşı 5000'den büyük olan kişiler:\")\n",
    "print(maasi_5000den_buyuk)"
   ]
  },
  {
   "cell_type": "code",
   "execution_count": 5,
   "metadata": {},
   "outputs": [
    {
     "name": "stdout",
     "output_type": "stream",
     "text": [
      "\n",
      "Yaşa göre sıralanmış DataFrame:\n",
      "     İsim  Yaş  Maaş\n",
      "2  Mehmet   22  4500\n",
      "0    Veli   25  5000\n",
      "3   Betül   27  5200\n",
      "1    Ayşe   30  6000\n"
     ]
    }
   ],
   "source": [
    "# Yaşa göre sıralama\n",
    "yas_sirali_df = df.sort_values(by=\"Yaş\", ascending=True)\n",
    "print(\"\\nYaşa göre sıralanmış DataFrame:\")\n",
    "print(yas_sirali_df)\n"
   ]
  }
 ],
 "metadata": {
  "kernelspec": {
   "display_name": "Python 3",
   "language": "python",
   "name": "python3"
  },
  "language_info": {
   "codemirror_mode": {
    "name": "ipython",
    "version": 3
   },
   "file_extension": ".py",
   "mimetype": "text/x-python",
   "name": "python",
   "nbconvert_exporter": "python",
   "pygments_lexer": "ipython3",
   "version": "3.12.0"
  }
 },
 "nbformat": 4,
 "nbformat_minor": 2
}
